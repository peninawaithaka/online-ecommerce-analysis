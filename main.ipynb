{
 "cells": [
  {
   "cell_type": "code",
   "execution_count": 7,
   "metadata": {},
   "outputs": [],
   "source": [
    "#using pyspark\n",
    "import pyspark\n",
    "#importing the spark session\n",
    "from pyspark.sql import SparkSession\n",
    "spark = SparkSession.builder.appName('online-ecormmerce').getOrCreate()"
   ]
  },
  {
   "cell_type": "code",
   "execution_count": 8,
   "metadata": {},
   "outputs": [
    {
     "name": "stdout",
     "output_type": "stream",
     "text": [
      "+------------+----------+--------------------+----------+----------+--------------------+------------+--------+-----+-----+--------+----------+-----------+-------------------+\n",
      "|Order_Number|State_Code|       Customer_Name|Order_Date|    Status|             Product|    Category|   Brand| Cost|Sales|Quantity|Total_Cost|Total_Sales|Assigned Supervisor|\n",
      "+------------+----------+--------------------+----------+----------+--------------------+------------+--------+-----+-----+--------+----------+-----------+-------------------+\n",
      "|      139374|        AP|         Adhir Samal|11/01/2020| Delivered|          512 GB M.2|         SSD| Samsung| 6500| 8450|       1|      6500|       8450|        Ajay Sharma|\n",
      "|      139375|        AP|      Dannana Jhammi|11/01/2020| Delivered|RYZEN 3rd gen. 3500 |         CPU|   Intel| 8500|11050|       3|     25500|      33150|       Roshan Kumar|\n",
      "|      139376|        AS|         Vipin Kumar|11/01/2020| Delivered|    2GB Graphic Card|Graphic Card|  Nvidia| 7000| 9100|       2|     14000|      18200|        Aarvi Gupta|\n",
      "|      139377|        BR|       Ranjeet Kumar|11/01/2020| Delivered|      16 GB DDR4 RAM|         RAM|   Hynix| 6550| 8515|       3|     19650|      25545|        Vijay Singh|\n",
      "|      139378|        CG|       Sajal Singhal|11/01/2020|     Order|Standard ATX moth...| MotherBoard|Gigabyte| 7650| 9945|       4|     30600|      39780|         Aadil Khan|\n",
      "|      139379|        CG|      Akhilesh Kumar|11/01/2020|     Order|  Compact with 1 Fan|     Cabinet|    Asus| 1150| 1495|       2|      2300|       2990|       Advika Joshi|\n",
      "|      139380|        CG|Suvankar Chakraborty|11/01/2020|     Order|USB Backlight Key...|    Keyboard|    Dell|  850| 1105|       3|      2550|       3315|        Ajay Sharma|\n",
      "|        null|      null|                null|      null|      null|                null|        null|    null| null| null|    null|      null|       null|               null|\n",
      "|        null|      null|                null|      null|      null|                null|        null|    null| null| null|    null|      null|       null|               null|\n",
      "|      139381|        CG|   Suvankar Adhikary|12/01/2020|     Order|     Ergonomic Mouse|       Mouse| Samsung|  650|  845|       2|      1300|       1690|        Ajay Sharma|\n",
      "|      139382|        CG|Rahul Kumar Praja...|13/01/2020|     Order|  \"15\"\" LCD Dsipaly\"|     Monitor|    Dell| 7500| 9750|       1|      7500|       9750|       Roshan Kumar|\n",
      "|      139383|        JK|          Sagar Jeur|14/01/2020|     Order|            2 TB HDD|         HDD| Seagate|10000|13000|       3|     30000|      39000|        Aarvi Gupta|\n",
      "|        null|      null|                null|      null|      null|                null|        null|    null| null| null|    null|      null|       null|               null|\n",
      "|      139384|        JH|     Rhushikesh Mane|15/01/2020|     Order|            1 TB SSD|         SSD| Samsung|10500|13650|       1|     10500|      13650|         Aadil Khan|\n",
      "|      139385|        KA|        Ashish Kumar|16/01/2020|     Order|  Intel i5 12th gen.|         CPU|   Intel| 8500|11050|       4|     34000|      44200|       Advika Joshi|\n",
      "|      139386|        KL|        Javed Akhter|17/01/2020|     Order|    2GB Graphic Card|Graphic Card|  Nvidia| 7000| 9100|       2|     14000|      18200|        Ajay Sharma|\n",
      "|      139387|        KL|      Haridas Balraj|18/01/2020|Processing|       4 GB DDR4 Ram|         RAM|   Hynix| 1680| 2184|       1|      1680|       2184|        Ajay Sharma|\n",
      "|      139388|        KL|        Kundan Kumar|19/01/2020|Processing|Micro ATX motherb...| MotherBoard|     MSI| 6540| 8502|       2|     13080|      17004|       Roshan Kumar|\n",
      "|      139389|        MN|       Atif Siddiqui|20/01/2020|Processing|  Gaming Box Cabinet|     Cabinet|    Asus| 2680| 3484|       1|      2680|       3484|        Aarvi Gupta|\n",
      "|      139390|        ML|      Aditya Agarwal|21/01/2020|Processing|  \"17\"\" LCD Display\"|     Monitor| Samsung| 8250|10725|       2|     16500|      21450|        Vijay Singh|\n",
      "+------------+----------+--------------------+----------+----------+--------------------+------------+--------+-----+-----+--------+----------+-----------+-------------------+\n",
      "only showing top 20 rows\n",
      "\n"
     ]
    }
   ],
   "source": [
    "#reading data using pyspark\n",
    "df=spark.read.csv('data/Online-eCommerce.csv', inferSchema = True, header = True)\n",
    "df.show(20)"
   ]
  },
  {
   "cell_type": "code",
   "execution_count": 9,
   "metadata": {},
   "outputs": [
    {
     "name": "stdout",
     "output_type": "stream",
     "text": [
      "+------------+----------+--------------------+----------+----------+--------------------+------------+--------+-----+-----+--------+----------+-----------+-------------------+\n",
      "|Order_Number|State_Code|       Customer_Name|Order_Date|    Status|             Product|    Category|   Brand| Cost|Sales|Quantity|Total_Cost|Total_Sales|Assigned Supervisor|\n",
      "+------------+----------+--------------------+----------+----------+--------------------+------------+--------+-----+-----+--------+----------+-----------+-------------------+\n",
      "|      139374|        AP|         Adhir Samal|11/01/2020| Delivered|          512 GB M.2|         SSD| Samsung| 6500| 8450|       1|      6500|       8450|        Ajay Sharma|\n",
      "|      139375|        AP|      Dannana Jhammi|11/01/2020| Delivered|RYZEN 3rd gen. 3500 |         CPU|   Intel| 8500|11050|       3|     25500|      33150|       Roshan Kumar|\n",
      "|      139376|        AS|         Vipin Kumar|11/01/2020| Delivered|    2GB Graphic Card|Graphic Card|  Nvidia| 7000| 9100|       2|     14000|      18200|        Aarvi Gupta|\n",
      "|      139377|        BR|       Ranjeet Kumar|11/01/2020| Delivered|      16 GB DDR4 RAM|         RAM|   Hynix| 6550| 8515|       3|     19650|      25545|        Vijay Singh|\n",
      "|      139378|        CG|       Sajal Singhal|11/01/2020|     Order|Standard ATX moth...| MotherBoard|Gigabyte| 7650| 9945|       4|     30600|      39780|         Aadil Khan|\n",
      "|      139379|        CG|      Akhilesh Kumar|11/01/2020|     Order|  Compact with 1 Fan|     Cabinet|    Asus| 1150| 1495|       2|      2300|       2990|       Advika Joshi|\n",
      "|      139380|        CG|Suvankar Chakraborty|11/01/2020|     Order|USB Backlight Key...|    Keyboard|    Dell|  850| 1105|       3|      2550|       3315|        Ajay Sharma|\n",
      "|      139381|        CG|   Suvankar Adhikary|12/01/2020|     Order|     Ergonomic Mouse|       Mouse| Samsung|  650|  845|       2|      1300|       1690|        Ajay Sharma|\n",
      "|      139382|        CG|Rahul Kumar Praja...|13/01/2020|     Order|  \"15\"\" LCD Dsipaly\"|     Monitor|    Dell| 7500| 9750|       1|      7500|       9750|       Roshan Kumar|\n",
      "|      139383|        JK|          Sagar Jeur|14/01/2020|     Order|            2 TB HDD|         HDD| Seagate|10000|13000|       3|     30000|      39000|        Aarvi Gupta|\n",
      "|      139384|        JH|     Rhushikesh Mane|15/01/2020|     Order|            1 TB SSD|         SSD| Samsung|10500|13650|       1|     10500|      13650|         Aadil Khan|\n",
      "|      139385|        KA|        Ashish Kumar|16/01/2020|     Order|  Intel i5 12th gen.|         CPU|   Intel| 8500|11050|       4|     34000|      44200|       Advika Joshi|\n",
      "|      139386|        KL|        Javed Akhter|17/01/2020|     Order|    2GB Graphic Card|Graphic Card|  Nvidia| 7000| 9100|       2|     14000|      18200|        Ajay Sharma|\n",
      "|      139387|        KL|      Haridas Balraj|18/01/2020|Processing|       4 GB DDR4 Ram|         RAM|   Hynix| 1680| 2184|       1|      1680|       2184|        Ajay Sharma|\n",
      "|      139388|        KL|        Kundan Kumar|19/01/2020|Processing|Micro ATX motherb...| MotherBoard|     MSI| 6540| 8502|       2|     13080|      17004|       Roshan Kumar|\n",
      "|      139389|        MN|       Atif Siddiqui|20/01/2020|Processing|  Gaming Box Cabinet|     Cabinet|    Asus| 2680| 3484|       1|      2680|       3484|        Aarvi Gupta|\n",
      "|      139390|        ML|      Aditya Agarwal|21/01/2020|Processing|  \"17\"\" LCD Display\"|     Monitor| Samsung| 8250|10725|       2|     16500|      21450|        Vijay Singh|\n",
      "|      139391|        MZ|      Firdoush Jabee|22/01/2020|Processing|       8 GB DDR4 RAM|         RAM| Samsung| 2650| 3445|       4|     10600|      13780|         Aadil Khan|\n",
      "|      139392|        NL|   Jay Prakash Kumar|22/01/2020|Processing|  \"26\"\" LCD Display\"|     Monitor|    Acer|12550|16315|       2|     25100|      32630|       Advika Joshi|\n",
      "|      139393|        OR|       Ashish Pandey|22/01/2020|Processing|I7 - intel 12th G...|         CPU|   Intel|14500|18850|       2|     29000|      37700|        Ajay Sharma|\n",
      "+------------+----------+--------------------+----------+----------+--------------------+------------+--------+-----+-----+--------+----------+-----------+-------------------+\n",
      "only showing top 20 rows\n",
      "\n"
     ]
    }
   ],
   "source": [
    "#drop entire rows that contain null values\n",
    "df_cleansed = df.na.drop()\n",
    "df_cleansed.show(20)"
   ]
  },
  {
   "cell_type": "code",
   "execution_count": 10,
   "metadata": {},
   "outputs": [],
   "source": [
    "#create a temp view for SQL querying\n",
    "df_cleansed.createOrReplaceTempView(\"ecormmerce_temp_view\")"
   ]
  },
  {
   "cell_type": "code",
   "execution_count": null,
   "metadata": {},
   "outputs": [],
   "source": [
    "tables = spark.catalog.listTables()\n",
    "print(tables)"
   ]
  },
  {
   "cell_type": "code",
   "execution_count": 11,
   "metadata": {},
   "outputs": [
    {
     "name": "stdout",
     "output_type": "stream",
     "text": [
      "+------------+----------+--------------+----------+---------+--------------------+------------+--------+----+-----+--------+----------+-----------+-------------------+\n",
      "|Order_Number|State_Code| Customer_Name|Order_Date|   Status|             Product|    Category|   Brand|Cost|Sales|Quantity|Total_Cost|Total_Sales|Assigned Supervisor|\n",
      "+------------+----------+--------------+----------+---------+--------------------+------------+--------+----+-----+--------+----------+-----------+-------------------+\n",
      "|      139374|        AP|   Adhir Samal|11/01/2020|Delivered|          512 GB M.2|         SSD| Samsung|6500| 8450|       1|      6500|       8450|        Ajay Sharma|\n",
      "|      139375|        AP|Dannana Jhammi|11/01/2020|Delivered|RYZEN 3rd gen. 3500 |         CPU|   Intel|8500|11050|       3|     25500|      33150|       Roshan Kumar|\n",
      "|      139376|        AS|   Vipin Kumar|11/01/2020|Delivered|    2GB Graphic Card|Graphic Card|  Nvidia|7000| 9100|       2|     14000|      18200|        Aarvi Gupta|\n",
      "|      139377|        BR| Ranjeet Kumar|11/01/2020|Delivered|      16 GB DDR4 RAM|         RAM|   Hynix|6550| 8515|       3|     19650|      25545|        Vijay Singh|\n",
      "|      139378|        CG| Sajal Singhal|11/01/2020|    Order|Standard ATX moth...| MotherBoard|Gigabyte|7650| 9945|       4|     30600|      39780|         Aadil Khan|\n",
      "+------------+----------+--------------+----------+---------+--------------------+------------+--------+----+-----+--------+----------+-----------+-------------------+\n",
      "\n"
     ]
    }
   ],
   "source": [
    "spark.sql(\"select * from ecormmerce_temp_view limit 5\").show()"
   ]
  },
  {
   "cell_type": "code",
   "execution_count": 12,
   "metadata": {},
   "outputs": [],
   "source": [
    "# To Do\n",
    "# Data questions\n",
    "# which product is the most common in the AP state code\n",
    "# which customer has th highest amount of sales, what product did they buy\n",
    "# Brand that has the highest sales\n",
    "# Which brand is popular in the various state codes\n",
    "# Top 5 supervisors based on total sales and costs\n",
    "# When were most sales made\n",
    "# which category has the most sales\n",
    "# which category generated the most revenue "
   ]
  },
  {
   "cell_type": "code",
   "execution_count": 17,
   "metadata": {},
   "outputs": [
    {
     "name": "stdout",
     "output_type": "stream",
     "text": [
      "+--------------------+-----------+\n",
      "|             Product|total_sales|\n",
      "+--------------------+-----------+\n",
      "|    2GB Graphic Card|    7198100|\n",
      "|I7 - intel 12th G...|    6616350|\n",
      "|  \"26\"\" LCD Display\"|    6558630|\n",
      "|    4GB Graphic card|    5915000|\n",
      "|  \"21\"\" LCD Display\"|    4777500|\n",
      "+--------------------+-----------+\n",
      "\n"
     ]
    }
   ],
   "source": [
    "# which product has the most sales?\n",
    "spark.sql(\"select Product, sum(Total_Sales) as total_sales from ecormmerce_temp_view group by Product order by total_sales desc limit 5;\").show()"
   ]
  },
  {
   "cell_type": "code",
   "execution_count": 19,
   "metadata": {},
   "outputs": [
    {
     "name": "stdout",
     "output_type": "stream",
     "text": [
      "+----------+-----------+\n",
      "|State_Code|total_sales|\n",
      "+----------+-----------+\n",
      "|        MH|   17621084|\n",
      "|        UP|    9264645|\n",
      "|        GJ|    9137726|\n",
      "|        DL|    5061953|\n",
      "|        BR|    4862221|\n",
      "+----------+-----------+\n",
      "\n"
     ]
    }
   ],
   "source": [
    "# which state has the highest number of purchases\n",
    "spark.sql(\" select State_Code, sum(Total_Sales) as total_sales from ecormmerce_temp_view group by State_Code order by total_sales desc limit 5\").show()"
   ]
  },
  {
   "cell_type": "code",
   "execution_count": null,
   "metadata": {},
   "outputs": [],
   "source": []
  }
 ],
 "metadata": {
  "kernelspec": {
   "display_name": "Python 3 (ipykernel)",
   "language": "python",
   "name": "python3"
  },
  "language_info": {
   "codemirror_mode": {
    "name": "ipython",
    "version": 3
   },
   "file_extension": ".py",
   "mimetype": "text/x-python",
   "name": "python",
   "nbconvert_exporter": "python",
   "pygments_lexer": "ipython3",
   "version": "3.10.11"
  }
 },
 "nbformat": 4,
 "nbformat_minor": 2
}
